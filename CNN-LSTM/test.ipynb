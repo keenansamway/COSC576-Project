{
 "cells": [
  {
   "cell_type": "code",
   "execution_count": 1,
   "metadata": {},
   "outputs": [],
   "source": [
    "import os, sys\n",
    "import torch\n",
    "import torch.nn as nn\n",
    "\n",
    "import torch.optim as optim\n",
    "import torchvision.transforms as transforms\n",
    "from utils import print_examples, save_checkpoint, load_checkpoint\n",
    "from get_loader import get_loader, Flickr8k, Flickr30k, PCCD, AVA\n",
    "from model import CNNtoLSTM, DecoderLSTM"
   ]
  },
  {
   "cell_type": "code",
   "execution_count": 2,
   "metadata": {},
   "outputs": [],
   "source": [
    "# Hyperparameters\n",
    "embed_size = 512\n",
    "hidden_size = 512\n",
    "num_layers = 1\n",
    "learning_rate = 1e-4\n",
    "dropout = 0.2\n",
    "\n",
    "#dataset_to_use = \"PCCD\"\n",
    "dataset_to_use = \"flickr8k\"\n",
    "#dataset_to_use = \"flickr30k\"\n",
    "#dataset_to_use = \"AVA\"\n",
    "\n",
    "if dataset_to_use == \"PCCD\":\n",
    "    imgs_folder = \"datasets/PCCD/images/full\"\n",
    "    annotation_file = \"datasets/PCCD/raw.json\"\n",
    "    test_file = \"datasets/PCCD/images/PCCD_test.txt\"\n",
    "    \n",
    "elif dataset_to_use == \"flickr8k\":\n",
    "    imgs_folder = \"datasets/flickr8k/test_examples\"\n",
    "    annotation_file = \"datasets/flickr8k/captions_train.feather\"\n",
    "    test_file = \"datasets/flickr8k/flickr8k_test.txt\"\n",
    "\n",
    "elif dataset_to_use == \"flickr30k\":\n",
    "    imgs_folder = \"datasets/flickr30k/test_examples\"\n",
    "    annotation_file = \"datasets/flickr30k/captions.txt\"\n",
    "    test_file = \"datasets/flickr30k/flickr30k_test.txt\"\n",
    "\n",
    "elif dataset_to_use == \"AVA\":\n",
    "    imgs_folder = \"../datasets/AVA/images\"\n",
    "    annotation_file = \"../datasets/AVA/CLEAN_AVA_SAMPLE_COMMENTS.feather\"\n",
    "    test_file = \"../datasets/AVA/AVA_test.txt\"\n",
    "\n",
    "transform = transforms.Compose(\n",
    "    [\n",
    "        transforms.Resize((232,232)),\n",
    "        transforms.RandomCrop((224,224)),\n",
    "        transforms.ToTensor(),\n",
    "        transforms.Normalize((0.485,0.456,0.406), (0.229,0.224,0.225)),\n",
    "    ]\n",
    ")\n",
    "\n",
    "freq_threshold = 5\n",
    "if dataset_to_use == \"PCCD\":\n",
    "    dataset = PCCD(imgs_folder, annotation_file, test_file, transform=transform, freq_threshold=freq_threshold)\n",
    "elif dataset_to_use == \"flickr8k\":\n",
    "    dataset = Flickr8k(imgs_folder, annotation_file, test_file, transform=transform, freq_threshold=freq_threshold)\n",
    "elif dataset_to_use == \"flickr30k\":\n",
    "    dataset = Flickr30k(imgs_folder, annotation_file, test_file, transform=transform, freq_threshold=freq_threshold)\n",
    "elif dataset_to_use == \"AVA\":\n",
    "    dataset = AVA(imgs_folder, annotation_file, test_file, transform=transform, freq_threshold=freq_threshold)\n",
    "\n",
    "vocab_size = len(dataset.vocab)\n",
    "\n",
    "device = torch.device(\"cuda\" if torch.cuda.is_available() else \"mps\" if torch.backends.mps.is_available() else \"cpu\")\n",
    "# Nvidia CUDA Acceleration or Apple M1 Metal Acceleration or CPU \n",
    "\n",
    "# initialize model, loss, etc\n",
    "model = CNNtoLSTM(\n",
    "    embed_size=embed_size, \n",
    "    hidden_size=hidden_size, \n",
    "    vocab_size=vocab_size,\n",
    "    num_layers=num_layers,\n",
    "    dropout=dropout,\n",
    "    ).to(device)\n",
    "\n",
    "optimizer = optim.AdamW(model.parameters(), lr=learning_rate)"
   ]
  },
  {
   "cell_type": "code",
   "execution_count": null,
   "metadata": {},
   "outputs": [],
   "source": [
    "path = f\"../CNN-LSTM/runs/checkpoint{5}.pth.tar\"\n",
    "\n",
    "load_checkpoint(torch.load(path, map_location=device), model, optimizer)"
   ]
  },
  {
   "cell_type": "code",
   "execution_count": null,
   "metadata": {},
   "outputs": [],
   "source": [
    "## Generate text from images\n",
    "print_examples(model, device, dataset)"
   ]
  },
  {
   "cell_type": "code",
   "execution_count": null,
   "metadata": {},
   "outputs": [],
   "source": [
    "## Generate text from random initialization\n",
    "start_token = torch.tensor(dataset.vocab.stoi[\"<SOS>\"]).to(device)\n",
    "hiddens = torch.rand(1, embed_size).to(device)\n",
    "outputs = model.decoder.generate_text(start_token, hiddens, dataset.vocab)\n",
    "print(outputs)"
   ]
  },
  {
   "cell_type": "code",
   "execution_count": null,
   "metadata": {},
   "outputs": [],
   "source": []
  }
 ],
 "metadata": {
  "kernelspec": {
   "display_name": "Python 3.9.12 ('base')",
   "language": "python",
   "name": "python3"
  },
  "language_info": {
   "codemirror_mode": {
    "name": "ipython",
    "version": 3
   },
   "file_extension": ".py",
   "mimetype": "text/x-python",
   "name": "python",
   "nbconvert_exporter": "python",
   "pygments_lexer": "ipython3",
   "version": "3.9.12"
  },
  "orig_nbformat": 4,
  "vscode": {
   "interpreter": {
    "hash": "06179fa2b8cfafd36062f042ab1b5d69dd100e6b8d44f3b802d9de85bc5b3b99"
   }
  }
 },
 "nbformat": 4,
 "nbformat_minor": 2
}
