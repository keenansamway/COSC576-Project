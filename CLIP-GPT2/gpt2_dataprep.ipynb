{
 "cells": [
  {
   "attachments": {},
   "cell_type": "markdown",
   "metadata": {},
   "source": [
    "#### Data preperation for finetuning GPT2 with AVA-captions dataset"
   ]
  },
  {
   "cell_type": "code",
   "execution_count": null,
   "metadata": {},
   "outputs": [],
   "source": [
    "import os\n",
    "import shutil\n",
    "from sklearn.model_selection import train_test_split\n",
    "from transformers import GPT2Tokenizer, GPT2LMHeadModel\n",
    "from transformers import Trainer, TrainingArguments\n",
    "from transformers import TextDataset, DataCollatorForLanguageModeling\n",
    "from transformers import pipeline"
   ]
  },
  {
   "attachments": {},
   "cell_type": "markdown",
   "metadata": {},
   "source": [
    "Used code from: https://rowlando13.medium.com/everything-gpt-2-5-fine-tuning-885aec508c4"
   ]
  },
  {
   "cell_type": "code",
   "execution_count": null,
   "metadata": {},
   "outputs": [],
   "source": [
    "model_path = \"../CLIP-GPT2/models/gpt2-large\"\n",
    "\n",
    "tokenizer = GPT2Tokenizer.from_pretrained(\"gpt2-large\")\n",
    "tokenizer.save_pretrained(model_path)\n",
    "\n",
    "model = GPT2LMHeadModel.from_pretrained(\"gpt2-large\")\n",
    "model.save_pretrained(model_path)"
   ]
  },
  {
   "cell_type": "code",
   "execution_count": null,
   "metadata": {},
   "outputs": [],
   "source": [
    "## DATA PREPERATION\n",
    "def file_to_list(text_loc, tokenizer, max_len):\n",
    "    text_blocks = []\n",
    "    \n",
    "    f = open(text_loc, encoding=\"utf-8\")\n",
    "    text = f.read()\n",
    "    \n",
    "    tokens = tokenizer.encode(text)\n",
    "    \n",
    "    while len(tokens) > 0:\n",
    "        holder = []\n",
    "        if len(tokens) > max_len:\n",
    "            holder = tokens[0:max_len]\n",
    "            del tokens[0:max_len]\n",
    "            if holder[-1] != 50256:\n",
    "                holder.append(50256)\n",
    "        \n",
    "        else:\n",
    "            holder = tokens\n",
    "            tokens = []\n",
    "            if holder[-1] != 50256:\n",
    "                holder.append(50256)\n",
    "                \n",
    "        text_blocks.append(tokenizer.decode(holder))\n",
    "    \n",
    "    return text_blocks\n",
    "\n",
    "def text_to_pieces(text_loc, tokenizer, max_len=1024):\n",
    "    text_blocks = file_to_list(text_loc, tokenizer, max_len)    \n",
    "    return text_blocks\n",
    "\n",
    "text_loc = \"../datasets/AVA/AVA-captions_clean_full_text.txt\"\n",
    "max_len = 1024\n",
    "\n",
    "data = text_to_pieces(text_loc, tokenizer, max_len)"
   ]
  },
  {
   "cell_type": "code",
   "execution_count": null,
   "metadata": {},
   "outputs": [],
   "source": [
    "train, test = train_test_split(data, test_size=0.1, random_state=42)"
   ]
  },
  {
   "cell_type": "code",
   "execution_count": null,
   "metadata": {},
   "outputs": [],
   "source": [
    "train_loc = \"../CLIP-GPT2/data/large/train.txt\"\n",
    "test_loc = \"../CLIP-GPT2/data/large/test.txt\""
   ]
  },
  {
   "cell_type": "code",
   "execution_count": null,
   "metadata": {},
   "outputs": [],
   "source": [
    "train_text = \"\"\n",
    "train_text = train_text.join(train)\n",
    "\n",
    "test_text = \"\"\n",
    "test_text = test_text.join(test)\n",
    "\n",
    "with open(train_loc, \"x\", encoding=\"utf-8\") as f:\n",
    "    f.write(train_text)\n",
    "\n",
    "with open(test_loc, \"x\", encoding=\"utf-8\") as f:\n",
    "    f.write(test_text)"
   ]
  }
 ],
 "metadata": {
  "kernelspec": {
   "display_name": "pytorch",
   "language": "python",
   "name": "python3"
  },
  "language_info": {
   "name": "python",
   "version": "3.9.15 (main, Nov 24 2022, 14:39:17) [MSC v.1916 64 bit (AMD64)]"
  },
  "orig_nbformat": 4,
  "vscode": {
   "interpreter": {
    "hash": "a885d5bfa55cca12b0dd162160ddb2cadd7a03a3570ec17fb5426c28a2279b3e"
   }
  }
 },
 "nbformat": 4,
 "nbformat_minor": 2
}
