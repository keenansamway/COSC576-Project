{
 "cells": [
  {
   "attachments": {},
   "cell_type": "markdown",
   "metadata": {},
   "source": [
    "#### Data preperation for training CLIP-GPT2 model with AVA-captions dataset"
   ]
  },
  {
   "cell_type": "code",
   "execution_count": 1,
   "metadata": {},
   "outputs": [],
   "source": [
    "import os\n",
    "import shutil\n",
    "import pandas as pd\n",
    "from transformers import GPT2Tokenizer\n",
    "from sklearn.model_selection import train_test_split"
   ]
  },
  {
   "cell_type": "code",
   "execution_count": 2,
   "metadata": {},
   "outputs": [],
   "source": [
    "tokenizer = GPT2Tokenizer.from_pretrained(\"gpt2\")"
   ]
  },
  {
   "cell_type": "code",
   "execution_count": 3,
   "metadata": {},
   "outputs": [
    {
     "data": {
      "text/html": [
       "<div>\n",
       "<style scoped>\n",
       "    .dataframe tbody tr th:only-of-type {\n",
       "        vertical-align: middle;\n",
       "    }\n",
       "\n",
       "    .dataframe tbody tr th {\n",
       "        vertical-align: top;\n",
       "    }\n",
       "\n",
       "    .dataframe thead th {\n",
       "        text-align: right;\n",
       "    }\n",
       "</style>\n",
       "<table border=\"1\" class=\"dataframe\">\n",
       "  <thead>\n",
       "    <tr style=\"text-align: right;\">\n",
       "      <th></th>\n",
       "      <th>image_id</th>\n",
       "      <th>caption</th>\n",
       "    </tr>\n",
       "  </thead>\n",
       "  <tbody>\n",
       "    <tr>\n",
       "      <th>0</th>\n",
       "      <td>953417.jpg</td>\n",
       "      <td>. nice! you have mad macro skills! you'll noti...</td>\n",
       "    </tr>\n",
       "    <tr>\n",
       "      <th>1</th>\n",
       "      <td>953417.jpg</td>\n",
       "      <td>funny shot. very nice perspective and lovely c...</td>\n",
       "    </tr>\n",
       "    <tr>\n",
       "      <th>2</th>\n",
       "      <td>953777.jpg</td>\n",
       "      <td>on your profile page. i suspect you will be ro...</td>\n",
       "    </tr>\n",
       "    <tr>\n",
       "      <th>3</th>\n",
       "      <td>953777.jpg</td>\n",
       "      <td>awesome picture! great angle and lighting and ...</td>\n",
       "    </tr>\n",
       "    <tr>\n",
       "      <th>4</th>\n",
       "      <td>953777.jpg</td>\n",
       "      <td>that's really within meters of your house? if ...</td>\n",
       "    </tr>\n",
       "  </tbody>\n",
       "</table>\n",
       "</div>"
      ],
      "text/plain": [
       "     image_id                                            caption\n",
       "0  953417.jpg  . nice! you have mad macro skills! you'll noti...\n",
       "1  953417.jpg  funny shot. very nice perspective and lovely c...\n",
       "2  953777.jpg  on your profile page. i suspect you will be ro...\n",
       "3  953777.jpg  awesome picture! great angle and lighting and ...\n",
       "4  953777.jpg  that's really within meters of your house? if ..."
      ]
     },
     "execution_count": 3,
     "metadata": {},
     "output_type": "execute_result"
    }
   ],
   "source": [
    "## DATA PREPERATION\n",
    "captions_file = \"../datasets/AVA/AVA-captions_clean_full.feather\"\n",
    "data = pd.read_feather(captions_file)\n",
    "data.rename(columns={\"filename\": \"image_id\", \"clean_sentence\": \"caption\"}, inplace=True)\n",
    "data.head()"
   ]
  },
  {
   "cell_type": "code",
   "execution_count": 4,
   "metadata": {},
   "outputs": [
    {
     "data": {
      "text/html": [
       "<div>\n",
       "<style scoped>\n",
       "    .dataframe tbody tr th:only-of-type {\n",
       "        vertical-align: middle;\n",
       "    }\n",
       "\n",
       "    .dataframe tbody tr th {\n",
       "        vertical-align: top;\n",
       "    }\n",
       "\n",
       "    .dataframe thead th {\n",
       "        text-align: right;\n",
       "    }\n",
       "</style>\n",
       "<table border=\"1\" class=\"dataframe\">\n",
       "  <thead>\n",
       "    <tr style=\"text-align: right;\">\n",
       "      <th></th>\n",
       "      <th>image_id</th>\n",
       "      <th>caption</th>\n",
       "      <th>label</th>\n",
       "    </tr>\n",
       "  </thead>\n",
       "  <tbody>\n",
       "    <tr>\n",
       "      <th>0</th>\n",
       "      <td>953417.jpg</td>\n",
       "      <td>. nice! you have mad macro skills! you'll noti...</td>\n",
       "      <td>[13, 3621, 0, 345, 423, 8805, 15021, 4678, 0, ...</td>\n",
       "    </tr>\n",
       "    <tr>\n",
       "      <th>1</th>\n",
       "      <td>953417.jpg</td>\n",
       "      <td>funny shot. very nice perspective and lovely c...</td>\n",
       "      <td>[12543, 3281, 2823, 13, 845, 3621, 6650, 290, ...</td>\n",
       "    </tr>\n",
       "    <tr>\n",
       "      <th>2</th>\n",
       "      <td>953777.jpg</td>\n",
       "      <td>on your profile page. i suspect you will be ro...</td>\n",
       "      <td>[261, 534, 7034, 2443, 13, 1312, 4099, 345, 48...</td>\n",
       "    </tr>\n",
       "    <tr>\n",
       "      <th>3</th>\n",
       "      <td>953777.jpg</td>\n",
       "      <td>awesome picture! great angle and lighting and ...</td>\n",
       "      <td>[707, 5927, 4286, 0, 1049, 9848, 290, 12019, 2...</td>\n",
       "    </tr>\n",
       "    <tr>\n",
       "      <th>4</th>\n",
       "      <td>953777.jpg</td>\n",
       "      <td>that's really within meters of your house? if ...</td>\n",
       "      <td>[5562, 338, 1107, 1626, 10700, 286, 534, 2156,...</td>\n",
       "    </tr>\n",
       "  </tbody>\n",
       "</table>\n",
       "</div>"
      ],
      "text/plain": [
       "     image_id                                            caption  \\\n",
       "0  953417.jpg  . nice! you have mad macro skills! you'll noti...   \n",
       "1  953417.jpg  funny shot. very nice perspective and lovely c...   \n",
       "2  953777.jpg  on your profile page. i suspect you will be ro...   \n",
       "3  953777.jpg  awesome picture! great angle and lighting and ...   \n",
       "4  953777.jpg  that's really within meters of your house? if ...   \n",
       "\n",
       "                                               label  \n",
       "0  [13, 3621, 0, 345, 423, 8805, 15021, 4678, 0, ...  \n",
       "1  [12543, 3281, 2823, 13, 845, 3621, 6650, 290, ...  \n",
       "2  [261, 534, 7034, 2443, 13, 1312, 4099, 345, 48...  \n",
       "3  [707, 5927, 4286, 0, 1049, 9848, 290, 12019, 2...  \n",
       "4  [5562, 338, 1107, 1626, 10700, 286, 534, 2156,...  "
      ]
     },
     "execution_count": 4,
     "metadata": {},
     "output_type": "execute_result"
    }
   ],
   "source": [
    "data['label'] = data['caption'].apply(lambda x: tokenizer.encode(x))\n",
    "data.head()"
   ]
  },
  {
   "cell_type": "code",
   "execution_count": 5,
   "metadata": {},
   "outputs": [],
   "source": [
    "train, test = train_test_split(data, test_size=0.1, random_state=42)"
   ]
  },
  {
   "cell_type": "code",
   "execution_count": 6,
   "metadata": {},
   "outputs": [],
   "source": [
    "train = train.reset_index(drop=True)\n",
    "test = test.reset_index(drop=True)"
   ]
  },
  {
   "cell_type": "code",
   "execution_count": 7,
   "metadata": {},
   "outputs": [],
   "source": [
    "train_loc = \"../CLIP-GPT2/data/clip-gpt2/train.csv\"\n",
    "test_loc = \"../CLIP-GPT2/data/clip-gpt2/test.csv\""
   ]
  },
  {
   "cell_type": "code",
   "execution_count": 8,
   "metadata": {},
   "outputs": [],
   "source": [
    "train.to_csv(train_loc, sep=\",\", index=False)\n",
    "test.to_csv(test_loc, sep=\",\", index=False)"
   ]
  },
  {
   "cell_type": "code",
   "execution_count": 3,
   "metadata": {},
   "outputs": [],
   "source": []
  },
  {
   "cell_type": "code",
   "execution_count": 4,
   "metadata": {},
   "outputs": [],
   "source": []
  }
 ],
 "metadata": {
  "kernelspec": {
   "display_name": "pytorch",
   "language": "python",
   "name": "python3"
  },
  "language_info": {
   "codemirror_mode": {
    "name": "ipython",
    "version": 3
   },
   "file_extension": ".py",
   "mimetype": "text/x-python",
   "name": "python",
   "nbconvert_exporter": "python",
   "pygments_lexer": "ipython3",
   "version": "3.9.15 (main, Nov 24 2022, 14:39:17) [MSC v.1916 64 bit (AMD64)]"
  },
  "orig_nbformat": 4,
  "vscode": {
   "interpreter": {
    "hash": "a885d5bfa55cca12b0dd162160ddb2cadd7a03a3570ec17fb5426c28a2279b3e"
   }
  }
 },
 "nbformat": 4,
 "nbformat_minor": 2
}
