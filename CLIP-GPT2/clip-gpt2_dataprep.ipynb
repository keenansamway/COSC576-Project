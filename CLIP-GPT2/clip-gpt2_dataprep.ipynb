{
 "cells": [
  {
   "attachments": {},
   "cell_type": "markdown",
   "metadata": {},
   "source": [
    "#### Data preperation for training CLIP-GPT2 model with AVA-captions dataset"
   ]
  },
  {
   "cell_type": "code",
   "execution_count": 1,
   "metadata": {},
   "outputs": [],
   "source": [
    "import os\n",
    "import shutil\n",
    "import pandas as pd\n",
    "from transformers import GPT2Tokenizer\n",
    "from sklearn.model_selection import train_test_split"
   ]
  },
  {
   "cell_type": "code",
   "execution_count": 2,
   "metadata": {},
   "outputs": [],
   "source": [
    "tokenizer = GPT2Tokenizer.from_pretrained(\"gpt2\")"
   ]
  },
  {
   "cell_type": "code",
   "execution_count": 13,
   "metadata": {},
   "outputs": [
    {
     "data": {
      "text/html": [
       "<div>\n",
       "<style scoped>\n",
       "    .dataframe tbody tr th:only-of-type {\n",
       "        vertical-align: middle;\n",
       "    }\n",
       "\n",
       "    .dataframe tbody tr th {\n",
       "        vertical-align: top;\n",
       "    }\n",
       "\n",
       "    .dataframe thead th {\n",
       "        text-align: right;\n",
       "    }\n",
       "</style>\n",
       "<table border=\"1\" class=\"dataframe\">\n",
       "  <thead>\n",
       "    <tr style=\"text-align: right;\">\n",
       "      <th></th>\n",
       "      <th>image_id</th>\n",
       "      <th>caption</th>\n",
       "    </tr>\n",
       "  </thead>\n",
       "  <tbody>\n",
       "    <tr>\n",
       "      <th>0</th>\n",
       "      <td>1000268201_693b08cb0e.jpg</td>\n",
       "      <td>A child in a pink dress is climbing up a set o...</td>\n",
       "    </tr>\n",
       "    <tr>\n",
       "      <th>1</th>\n",
       "      <td>1000268201_693b08cb0e.jpg</td>\n",
       "      <td>A girl going into a wooden building .</td>\n",
       "    </tr>\n",
       "    <tr>\n",
       "      <th>2</th>\n",
       "      <td>1000268201_693b08cb0e.jpg</td>\n",
       "      <td>A little girl climbing into a wooden playhouse .</td>\n",
       "    </tr>\n",
       "    <tr>\n",
       "      <th>3</th>\n",
       "      <td>1000268201_693b08cb0e.jpg</td>\n",
       "      <td>A little girl climbing the stairs to her playh...</td>\n",
       "    </tr>\n",
       "    <tr>\n",
       "      <th>4</th>\n",
       "      <td>1000268201_693b08cb0e.jpg</td>\n",
       "      <td>A little girl in a pink dress going into a woo...</td>\n",
       "    </tr>\n",
       "  </tbody>\n",
       "</table>\n",
       "</div>"
      ],
      "text/plain": [
       "                    image_id  \\\n",
       "0  1000268201_693b08cb0e.jpg   \n",
       "1  1000268201_693b08cb0e.jpg   \n",
       "2  1000268201_693b08cb0e.jpg   \n",
       "3  1000268201_693b08cb0e.jpg   \n",
       "4  1000268201_693b08cb0e.jpg   \n",
       "\n",
       "                                             caption  \n",
       "0  A child in a pink dress is climbing up a set o...  \n",
       "1              A girl going into a wooden building .  \n",
       "2   A little girl climbing into a wooden playhouse .  \n",
       "3  A little girl climbing the stairs to her playh...  \n",
       "4  A little girl in a pink dress going into a woo...  "
      ]
     },
     "execution_count": 13,
     "metadata": {},
     "output_type": "execute_result"
    }
   ],
   "source": [
    "## DATA PREPERATION\n",
    "#captions_file = \"../datasets/AVA/AVA-captions_clean_full.feather\"\n",
    "#data = pd.read_feather(captions_file)\n",
    "#data.rename(columns={\"filename\": \"image_id\", \"clean_sentence\": \"caption\"}, inplace=True)\n",
    "\n",
    "captions_file = \"../datasets/flickr8k/captions.txt\"\n",
    "data = pd.read_csv(captions_file, sep=',')\n",
    "data.rename(columns={\"image\": \"image_id\", \"caption\": \"caption\"}, inplace=True)\n",
    "data.head()"
   ]
  },
  {
   "cell_type": "code",
   "execution_count": 4,
   "metadata": {},
   "outputs": [],
   "source": [
    "grouped_df = data.groupby(\"image_id\")['caption'].apply(list)"
   ]
  },
  {
   "cell_type": "code",
   "execution_count": 5,
   "metadata": {},
   "outputs": [],
   "source": [
    "grouped_df = grouped_df.reset_index()"
   ]
  },
  {
   "cell_type": "code",
   "execution_count": 10,
   "metadata": {},
   "outputs": [
    {
     "data": {
      "text/html": [
       "<div>\n",
       "<style scoped>\n",
       "    .dataframe tbody tr th:only-of-type {\n",
       "        vertical-align: middle;\n",
       "    }\n",
       "\n",
       "    .dataframe tbody tr th {\n",
       "        vertical-align: top;\n",
       "    }\n",
       "\n",
       "    .dataframe thead th {\n",
       "        text-align: right;\n",
       "    }\n",
       "</style>\n",
       "<table border=\"1\" class=\"dataframe\">\n",
       "  <thead>\n",
       "    <tr style=\"text-align: right;\">\n",
       "      <th></th>\n",
       "      <th>image_id</th>\n",
       "      <th>captions</th>\n",
       "    </tr>\n",
       "  </thead>\n",
       "  <tbody>\n",
       "    <tr>\n",
       "      <th>0</th>\n",
       "      <td>1000.jpg</td>\n",
       "      <td>[great composition! the yellow of the glider i...</td>\n",
       "    </tr>\n",
       "    <tr>\n",
       "      <th>1</th>\n",
       "      <td>10000.jpg</td>\n",
       "      <td>[great job here. i like the arrangement of the...</td>\n",
       "    </tr>\n",
       "    <tr>\n",
       "      <th>2</th>\n",
       "      <td>10002.jpg</td>\n",
       "      <td>[just a little hard to see the bubbles on the ...</td>\n",
       "    </tr>\n",
       "    <tr>\n",
       "      <th>3</th>\n",
       "      <td>10003.jpg</td>\n",
       "      <td>[too dark. otherwise good macro. good focus on...</td>\n",
       "    </tr>\n",
       "    <tr>\n",
       "      <th>4</th>\n",
       "      <td>10005.jpg</td>\n",
       "      <td>[interesting idea. the detail in the fingertip...</td>\n",
       "    </tr>\n",
       "  </tbody>\n",
       "</table>\n",
       "</div>"
      ],
      "text/plain": [
       "    image_id                                           captions\n",
       "0   1000.jpg  [great composition! the yellow of the glider i...\n",
       "1  10000.jpg  [great job here. i like the arrangement of the...\n",
       "2  10002.jpg  [just a little hard to see the bubbles on the ...\n",
       "3  10003.jpg  [too dark. otherwise good macro. good focus on...\n",
       "4  10005.jpg  [interesting idea. the detail in the fingertip..."
      ]
     },
     "execution_count": 10,
     "metadata": {},
     "output_type": "execute_result"
    }
   ],
   "source": [
    "grouped_df.rename(columns={\"caption\": \"captions\"}, inplace=True)\n",
    "grouped_df.head()"
   ]
  },
  {
   "cell_type": "code",
   "execution_count": 11,
   "metadata": {},
   "outputs": [],
   "source": [
    "grouped_df.to_feather(\"../CLIP-GPT2/data/clip-gpt2/reference.feather\")"
   ]
  },
  {
   "cell_type": "code",
   "execution_count": 8,
   "metadata": {},
   "outputs": [
    {
     "data": {
      "text/plain": [
       "240047"
      ]
     },
     "execution_count": 8,
     "metadata": {},
     "output_type": "execute_result"
    }
   ],
   "source": [
    "len(grouped_df)"
   ]
  },
  {
   "cell_type": "code",
   "execution_count": 4,
   "metadata": {},
   "outputs": [
    {
     "data": {
      "text/html": [
       "<div>\n",
       "<style scoped>\n",
       "    .dataframe tbody tr th:only-of-type {\n",
       "        vertical-align: middle;\n",
       "    }\n",
       "\n",
       "    .dataframe tbody tr th {\n",
       "        vertical-align: top;\n",
       "    }\n",
       "\n",
       "    .dataframe thead th {\n",
       "        text-align: right;\n",
       "    }\n",
       "</style>\n",
       "<table border=\"1\" class=\"dataframe\">\n",
       "  <thead>\n",
       "    <tr style=\"text-align: right;\">\n",
       "      <th></th>\n",
       "      <th>image_id</th>\n",
       "      <th>caption</th>\n",
       "      <th>label</th>\n",
       "    </tr>\n",
       "  </thead>\n",
       "  <tbody>\n",
       "    <tr>\n",
       "      <th>0</th>\n",
       "      <td>953417.jpg</td>\n",
       "      <td>. nice! you have mad macro skills! you'll noti...</td>\n",
       "      <td>[13, 3621, 0, 345, 423, 8805, 15021, 4678, 0, ...</td>\n",
       "    </tr>\n",
       "    <tr>\n",
       "      <th>1</th>\n",
       "      <td>953417.jpg</td>\n",
       "      <td>funny shot. very nice perspective and lovely c...</td>\n",
       "      <td>[12543, 3281, 2823, 13, 845, 3621, 6650, 290, ...</td>\n",
       "    </tr>\n",
       "    <tr>\n",
       "      <th>2</th>\n",
       "      <td>953777.jpg</td>\n",
       "      <td>on your profile page. i suspect you will be ro...</td>\n",
       "      <td>[261, 534, 7034, 2443, 13, 1312, 4099, 345, 48...</td>\n",
       "    </tr>\n",
       "    <tr>\n",
       "      <th>3</th>\n",
       "      <td>953777.jpg</td>\n",
       "      <td>awesome picture! great angle and lighting and ...</td>\n",
       "      <td>[707, 5927, 4286, 0, 1049, 9848, 290, 12019, 2...</td>\n",
       "    </tr>\n",
       "    <tr>\n",
       "      <th>4</th>\n",
       "      <td>953777.jpg</td>\n",
       "      <td>that's really within meters of your house? if ...</td>\n",
       "      <td>[5562, 338, 1107, 1626, 10700, 286, 534, 2156,...</td>\n",
       "    </tr>\n",
       "  </tbody>\n",
       "</table>\n",
       "</div>"
      ],
      "text/plain": [
       "     image_id                                            caption  \\\n",
       "0  953417.jpg  . nice! you have mad macro skills! you'll noti...   \n",
       "1  953417.jpg  funny shot. very nice perspective and lovely c...   \n",
       "2  953777.jpg  on your profile page. i suspect you will be ro...   \n",
       "3  953777.jpg  awesome picture! great angle and lighting and ...   \n",
       "4  953777.jpg  that's really within meters of your house? if ...   \n",
       "\n",
       "                                               label  \n",
       "0  [13, 3621, 0, 345, 423, 8805, 15021, 4678, 0, ...  \n",
       "1  [12543, 3281, 2823, 13, 845, 3621, 6650, 290, ...  \n",
       "2  [261, 534, 7034, 2443, 13, 1312, 4099, 345, 48...  \n",
       "3  [707, 5927, 4286, 0, 1049, 9848, 290, 12019, 2...  \n",
       "4  [5562, 338, 1107, 1626, 10700, 286, 534, 2156,...  "
      ]
     },
     "execution_count": 4,
     "metadata": {},
     "output_type": "execute_result"
    }
   ],
   "source": [
    "# data['label'] = data['caption'].apply(lambda x: tokenizer.encode(x))\n",
    "# data.head()"
   ]
  },
  {
   "cell_type": "code",
   "execution_count": 9,
   "metadata": {},
   "outputs": [],
   "source": [
    "data = grouped_df"
   ]
  },
  {
   "cell_type": "code",
   "execution_count": 14,
   "metadata": {},
   "outputs": [],
   "source": [
    "train, validate_test = train_test_split(data, test_size=0.1, random_state=42)"
   ]
  },
  {
   "cell_type": "code",
   "execution_count": 15,
   "metadata": {},
   "outputs": [],
   "source": [
    "validate, test = train_test_split(validate_test, test_size=0.5, random_state=42)"
   ]
  },
  {
   "cell_type": "code",
   "execution_count": 16,
   "metadata": {},
   "outputs": [],
   "source": [
    "train = train.reset_index(drop=True)        # 90% train\n",
    "validate = validate.reset_index(drop=True)  # 5% validate\n",
    "test = test.reset_index(drop=True)          # 5% test"
   ]
  },
  {
   "cell_type": "code",
   "execution_count": 17,
   "metadata": {},
   "outputs": [
    {
     "name": "stdout",
     "output_type": "stream",
     "text": [
      "36409\n",
      "2023\n",
      "2023\n"
     ]
    }
   ],
   "source": [
    "print(len(train))\n",
    "print(len(validate))\n",
    "print(len(test))"
   ]
  },
  {
   "cell_type": "code",
   "execution_count": 18,
   "metadata": {},
   "outputs": [],
   "source": [
    "train_loc = \"../CLIP-GPT2/data/clip-gpt2/train.feather\"\n",
    "validate_loc = \"../CLIP-GPT2/data/clip-gpt2/validate.feather\"\n",
    "test_loc = \"../CLIP-GPT2/data/clip-gpt2/test.feather\"\n",
    "\n",
    "train_loc = \"../CLIP-GPT2/data/clip-gpt2/flickr/train.csv\"\n",
    "validate_loc = \"../CLIP-GPT2/data/clip-gpt2/flickr/validate.csv\"\n",
    "test_loc = \"../CLIP-GPT2/data/clip-gpt2/flickr/test.csv\""
   ]
  },
  {
   "cell_type": "code",
   "execution_count": 25,
   "metadata": {},
   "outputs": [],
   "source": [
    "train.to_feather(train_loc)\n",
    "validate.to_feather(validate_loc)\n",
    "test.to_feather(test_loc)"
   ]
  },
  {
   "cell_type": "code",
   "execution_count": 20,
   "metadata": {},
   "outputs": [],
   "source": [
    "train.to_csv(train_loc, sep=\",\", index=False)\n",
    "validate.to_csv(validate_loc, sep=\",\", index=False)\n",
    "test.to_csv(test_loc, sep=\",\", index=False)"
   ]
  }
 ],
 "metadata": {
  "kernelspec": {
   "display_name": "pytorch",
   "language": "python",
   "name": "python3"
  },
  "language_info": {
   "codemirror_mode": {
    "name": "ipython",
    "version": 3
   },
   "file_extension": ".py",
   "mimetype": "text/x-python",
   "name": "python",
   "nbconvert_exporter": "python",
   "pygments_lexer": "ipython3",
   "version": "3.9.15 (main, Nov 24 2022, 14:39:17) [MSC v.1916 64 bit (AMD64)]"
  },
  "orig_nbformat": 4,
  "vscode": {
   "interpreter": {
    "hash": "a885d5bfa55cca12b0dd162160ddb2cadd7a03a3570ec17fb5426c28a2279b3e"
   }
  }
 },
 "nbformat": 4,
 "nbformat_minor": 2
}
