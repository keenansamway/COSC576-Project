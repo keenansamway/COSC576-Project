{
 "cells": [
  {
   "cell_type": "code",
   "execution_count": 1,
   "metadata": {},
   "outputs": [],
   "source": [
    "import os\n",
    "import shutil\n",
    "from sklearn.model_selection import train_test_split\n",
    "from transformers import GPT2Tokenizer, GPT2LMHeadModel\n",
    "from transformers import Trainer, TrainingArguments\n",
    "from transformers import TextDataset, DataCollatorForLanguageModeling\n",
    "from transformers import pipeline"
   ]
  },
  {
   "cell_type": "code",
   "execution_count": 5,
   "metadata": {},
   "outputs": [
    {
     "data": {
      "application/vnd.jupyter.widget-view+json": {
       "model_id": "b478de8022444d8790b5c0480fd2fa02",
       "version_major": 2,
       "version_minor": 0
      },
      "text/plain": [
       "Downloading:   0%|          | 0.00/548M [00:00<?, ?B/s]"
      ]
     },
     "metadata": {},
     "output_type": "display_data"
    }
   ],
   "source": [
    "model_path = \"../CLIP-GPT2/models/gpt2-small\"\n",
    "\n",
    "tokenizer = GPT2Tokenizer.from_pretrained(\"gpt2\")\n",
    "tokenizer.save_pretrained(model_path)\n",
    "\n",
    "model = GPT2LMHeadModel.from_pretrained(\"gpt2\")\n",
    "model.save_pretrained(model_path)"
   ]
  },
  {
   "cell_type": "code",
   "execution_count": null,
   "metadata": {},
   "outputs": [],
   "source": [
    "## DATA PREPERATION\n",
    "def file_to_list(text_loc, tokenizer, max_len):\n",
    "    text_blocks = []\n",
    "    \n",
    "    f = open(text_loc, errors='ignore')\n",
    "    text = f.read()\n",
    "    \n",
    "    tokens = tokenizer.encode(text)\n",
    "    \n",
    "    while len(tokens) > 0:\n",
    "        holder = []\n",
    "        if len(tokens) > max_len:\n",
    "            holder = tokens[0:max_len]\n",
    "            del tokens[0:max_len]\n",
    "            if holder[-1] != 50256:\n",
    "                holder.append(50256)\n",
    "        \n",
    "        else:\n",
    "            holder = tokens\n",
    "            tokens = []\n",
    "            if holder[-1] != 50256:\n",
    "                holder.append(50256)\n",
    "                \n",
    "        text_blocks.append(holder)\n",
    "    \n",
    "    return text_blocks\n",
    "\n",
    "def text_to_pieces(text_loc, tokenizer, max_len=1024):\n",
    "    text_blocks = file_to_list(text_loc, tokenizer, max_len)    \n",
    "    return text_blocks\n",
    "\n",
    "text_loc = \"../datasets/AVA/AVA_captions_full.txt\"\n",
    "max_len = 1024\n",
    "\n",
    "data = text_to_pieces(text_loc, tokenizer, max_len)"
   ]
  },
  {
   "cell_type": "code",
   "execution_count": null,
   "metadata": {},
   "outputs": [],
   "source": [
    "train, test = train_test_split(data, test_size=0.1, random_state=42)"
   ]
  },
  {
   "cell_type": "code",
   "execution_count": null,
   "metadata": {},
   "outputs": [],
   "source": [
    "train_loc = \"../CLIP-GPT2/data/train.txt\"\n",
    "test_loc = \"../CLIP-GPT2/data/test.txt\""
   ]
  },
  {
   "cell_type": "code",
   "execution_count": null,
   "metadata": {},
   "outputs": [],
   "source": [
    "train_text = \"\"\n",
    "train_text = train_text.join(train)\n",
    "\n",
    "test_text = \"\"\n",
    "test_text = test_text.join(test)\n",
    "\n",
    "with open(train_loc, \"x\") as f:\n",
    "    f.write(train_text)\n",
    "\n",
    "with open(test_loc, \"x\") as f:\n",
    "    f.write(test_text)"
   ]
  },
  {
   "attachments": {},
   "cell_type": "markdown",
   "metadata": {},
   "source": [
    "# Restart Runtime"
   ]
  },
  {
   "cell_type": "code",
   "execution_count": null,
   "metadata": {},
   "outputs": [],
   "source": [
    "model_path = \"../CLIP-GPT2/models/gpt2-small\"\n",
    "tokenizer = GPT2Tokenizer.from_pretrained(model_path)\n",
    "model = GPT2LMHeadModel.from_pretrained(model_path)"
   ]
  },
  {
   "cell_type": "code",
   "execution_count": null,
   "metadata": {},
   "outputs": [],
   "source": [
    "def load_dataset(train_path, test_path, tokenizer):\n",
    "    train_dataset = TextDataset(\n",
    "        tokenizer=tokenizer,\n",
    "        file_path=train_path,\n",
    "        block_size=1024,\n",
    "    )\n",
    "    test_dataset = TextDataset(\n",
    "        tokenizer=tokenizer,\n",
    "        file_path=test_path,\n",
    "        block_size=1024,\n",
    "    )\n",
    "    data_collator = DataCollatorForLanguageModeling(\n",
    "        tokenizer=tokenizer, mlm=False,\n",
    "    )\n",
    "    return train_dataset, test_dataset, data_collator"
   ]
  }
 ],
 "metadata": {
  "kernelspec": {
   "display_name": "pytorch",
   "language": "python",
   "name": "python3"
  },
  "language_info": {
   "codemirror_mode": {
    "name": "ipython",
    "version": 3
   },
   "file_extension": ".py",
   "mimetype": "text/x-python",
   "name": "python",
   "nbconvert_exporter": "python",
   "pygments_lexer": "ipython3",
   "version": "3.9.15"
  },
  "orig_nbformat": 4,
  "vscode": {
   "interpreter": {
    "hash": "a885d5bfa55cca12b0dd162160ddb2cadd7a03a3570ec17fb5426c28a2279b3e"
   }
  }
 },
 "nbformat": 4,
 "nbformat_minor": 2
}
