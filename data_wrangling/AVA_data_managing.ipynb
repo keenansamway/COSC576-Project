{
 "cells": [
  {
   "cell_type": "code",
   "execution_count": 2,
   "metadata": {},
   "outputs": [],
   "source": [
    "import pandas as pd\n",
    "import random\n",
    "import os, io, json\n",
    "import shutil\n",
    "import seaborn as sns\n",
    "import matplotlib.pyplot as plt\n",
    "from PIL import Image\n",
    "import torchvision.transforms as transforms"
   ]
  },
  {
   "attachments": {},
   "cell_type": "markdown",
   "metadata": {},
   "source": [
    "# Parse original json file"
   ]
  },
  {
   "cell_type": "code",
   "execution_count": 2,
   "metadata": {},
   "outputs": [],
   "source": [
    "images_dir = \"../datasets/AVA/images\"\n",
    "captions_file_cleaned = \"../datasets/CLEAN_AVA_FULL_COMMENTS.json\""
   ]
  },
  {
   "cell_type": "code",
   "execution_count": 6,
   "metadata": {},
   "outputs": [],
   "source": [
    "with io.open(captions_file_cleaned, 'r', encoding = 'utf-8') as f:\n",
    "    json_file = json.load(f)"
   ]
  },
  {
   "cell_type": "code",
   "execution_count": 7,
   "metadata": {},
   "outputs": [],
   "source": [
    "df_raw = pd.DataFrame(json_file['images'])"
   ]
  },
  {
   "cell_type": "code",
   "execution_count": 8,
   "metadata": {},
   "outputs": [
    {
     "data": {
      "text/html": [
       "<div>\n",
       "<style scoped>\n",
       "    .dataframe tbody tr th:only-of-type {\n",
       "        vertical-align: middle;\n",
       "    }\n",
       "\n",
       "    .dataframe tbody tr th {\n",
       "        vertical-align: top;\n",
       "    }\n",
       "\n",
       "    .dataframe thead th {\n",
       "        text-align: right;\n",
       "    }\n",
       "</style>\n",
       "<table border=\"1\" class=\"dataframe\">\n",
       "  <thead>\n",
       "    <tr style=\"text-align: right;\">\n",
       "      <th></th>\n",
       "      <th>sentids</th>\n",
       "      <th>filepath</th>\n",
       "      <th>filename</th>\n",
       "      <th>imgid</th>\n",
       "      <th>split</th>\n",
       "      <th>sentences</th>\n",
       "      <th>cocoid</th>\n",
       "    </tr>\n",
       "  </thead>\n",
       "  <tbody>\n",
       "    <tr>\n",
       "      <th>0</th>\n",
       "      <td></td>\n",
       "      <td></td>\n",
       "      <td>953958.jpg</td>\n",
       "      <td>953958</td>\n",
       "      <td>train</td>\n",
       "      <td>[{'bigrams': [[['geometry', 'NN'], ['man', 'NN...</td>\n",
       "      <td>953958</td>\n",
       "    </tr>\n",
       "    <tr>\n",
       "      <th>1</th>\n",
       "      <td></td>\n",
       "      <td></td>\n",
       "      <td>954184.jpg</td>\n",
       "      <td>954184</td>\n",
       "      <td>train</td>\n",
       "      <td>[{'bigrams': [[['puffed', 'NN'], ['king', 'NN'...</td>\n",
       "      <td>954184</td>\n",
       "    </tr>\n",
       "    <tr>\n",
       "      <th>2</th>\n",
       "      <td></td>\n",
       "      <td></td>\n",
       "      <td>954113.jpg</td>\n",
       "      <td>954113</td>\n",
       "      <td>train</td>\n",
       "      <td>[{'bigrams': [[['great', 'JJ'], ['decision', '...</td>\n",
       "      <td>954113</td>\n",
       "    </tr>\n",
       "    <tr>\n",
       "      <th>3</th>\n",
       "      <td></td>\n",
       "      <td></td>\n",
       "      <td>953980.jpg</td>\n",
       "      <td>953980</td>\n",
       "      <td>train</td>\n",
       "      <td>[{'bigrams': [[['deep', 'JJR'], ['dof', 'NN']]...</td>\n",
       "      <td>953980</td>\n",
       "    </tr>\n",
       "    <tr>\n",
       "      <th>4</th>\n",
       "      <td></td>\n",
       "      <td></td>\n",
       "      <td>953349.jpg</td>\n",
       "      <td>953349</td>\n",
       "      <td>train</td>\n",
       "      <td>[{'bigrams': [[['nice', 'JJ'], ['nice', 'JJ']]...</td>\n",
       "      <td>953349</td>\n",
       "    </tr>\n",
       "  </tbody>\n",
       "</table>\n",
       "</div>"
      ],
      "text/plain": [
       "  sentids filepath    filename   imgid  split  \\\n",
       "0                   953958.jpg  953958  train   \n",
       "1                   954184.jpg  954184  train   \n",
       "2                   954113.jpg  954113  train   \n",
       "3                   953980.jpg  953980  train   \n",
       "4                   953349.jpg  953349  train   \n",
       "\n",
       "                                           sentences  cocoid  \n",
       "0  [{'bigrams': [[['geometry', 'NN'], ['man', 'NN...  953958  \n",
       "1  [{'bigrams': [[['puffed', 'NN'], ['king', 'NN'...  954184  \n",
       "2  [{'bigrams': [[['great', 'JJ'], ['decision', '...  954113  \n",
       "3  [{'bigrams': [[['deep', 'JJR'], ['dof', 'NN']]...  953980  \n",
       "4  [{'bigrams': [[['nice', 'JJ'], ['nice', 'JJ']]...  953349  "
      ]
     },
     "execution_count": 8,
     "metadata": {},
     "output_type": "execute_result"
    }
   ],
   "source": [
    "df_raw.head()"
   ]
  },
  {
   "cell_type": "code",
   "execution_count": null,
   "metadata": {},
   "outputs": [],
   "source": [
    "df_raw['sentences'][1000][0]"
   ]
  },
  {
   "cell_type": "code",
   "execution_count": 13,
   "metadata": {},
   "outputs": [],
   "source": [
    "filenames_list = []\n",
    "captions_list = []\n",
    "split_list = []\n",
    "\n",
    "for i, img in enumerate(df_raw['filename']):\n",
    "    for j, caption in enumerate(df_raw['sentences'][i]):\n",
    "        if os.path.exists(os.path.join(images_dir, img)):\n",
    "            filenames_list.append(img)\n",
    "            captions_list.append(caption['clean'])\n",
    "            split_list.append(df_raw['split'][i])"
   ]
  },
  {
   "cell_type": "code",
   "execution_count": 15,
   "metadata": {},
   "outputs": [],
   "source": [
    "df_full_dict = {'filename': filenames_list, 'clean_sentence': captions_list}\n",
    "df_full = pd.DataFrame(df_full_dict)"
   ]
  },
  {
   "cell_type": "code",
   "execution_count": 16,
   "metadata": {},
   "outputs": [
    {
     "data": {
      "text/html": [
       "<div>\n",
       "<style scoped>\n",
       "    .dataframe tbody tr th:only-of-type {\n",
       "        vertical-align: middle;\n",
       "    }\n",
       "\n",
       "    .dataframe tbody tr th {\n",
       "        vertical-align: top;\n",
       "    }\n",
       "\n",
       "    .dataframe thead th {\n",
       "        text-align: right;\n",
       "    }\n",
       "</style>\n",
       "<table border=\"1\" class=\"dataframe\">\n",
       "  <thead>\n",
       "    <tr style=\"text-align: right;\">\n",
       "      <th></th>\n",
       "      <th>filename</th>\n",
       "      <th>clean_sentence</th>\n",
       "      <th>split</th>\n",
       "    </tr>\n",
       "  </thead>\n",
       "  <tbody>\n",
       "    <tr>\n",
       "      <th>0</th>\n",
       "      <td>953417.jpg</td>\n",
       "      <td>nice you have mad macro skills you'll notice i...</td>\n",
       "      <td>train</td>\n",
       "    </tr>\n",
       "    <tr>\n",
       "      <th>1</th>\n",
       "      <td>953417.jpg</td>\n",
       "      <td>frog with attitude love it reminds me of jabba...</td>\n",
       "      <td>train</td>\n",
       "    </tr>\n",
       "    <tr>\n",
       "      <th>2</th>\n",
       "      <td>953417.jpg</td>\n",
       "      <td>he does look kind of lonely funky colors</td>\n",
       "      <td>train</td>\n",
       "    </tr>\n",
       "    <tr>\n",
       "      <th>3</th>\n",
       "      <td>953417.jpg</td>\n",
       "      <td>no thanks he is quite blue is'nt he i like this</td>\n",
       "      <td>train</td>\n",
       "    </tr>\n",
       "    <tr>\n",
       "      <th>4</th>\n",
       "      <td>953417.jpg</td>\n",
       "      <td>great shot</td>\n",
       "      <td>train</td>\n",
       "    </tr>\n",
       "  </tbody>\n",
       "</table>\n",
       "</div>"
      ],
      "text/plain": [
       "     filename                                     clean_sentence  split\n",
       "0  953417.jpg  nice you have mad macro skills you'll notice i...  train\n",
       "1  953417.jpg  frog with attitude love it reminds me of jabba...  train\n",
       "2  953417.jpg           he does look kind of lonely funky colors  train\n",
       "3  953417.jpg    no thanks he is quite blue is'nt he i like this  train\n",
       "4  953417.jpg                                         great shot  train"
      ]
     },
     "execution_count": 16,
     "metadata": {},
     "output_type": "execute_result"
    }
   ],
   "source": [
    "df_full.head()"
   ]
  },
  {
   "cell_type": "code",
   "execution_count": 59,
   "metadata": {},
   "outputs": [],
   "source": [
    "df_full.to_feather('../datasets/AVA/CLEAN_AVA_SAMPLE_COMMENTS.feather')"
   ]
  },
  {
   "attachments": {},
   "cell_type": "markdown",
   "metadata": {},
   "source": [
    "# Get 10% sample of data"
   ]
  },
  {
   "cell_type": "code",
   "execution_count": 3,
   "metadata": {},
   "outputs": [],
   "source": [
    "captions_file = \"../datasets/AVA/CLEAN_AVA_FULL_COMMENTS.feather\"\n",
    "# 3,330,881 comments total\n",
    "# 253,895 unique images"
   ]
  },
  {
   "cell_type": "code",
   "execution_count": 4,
   "metadata": {},
   "outputs": [],
   "source": [
    "df = pd.read_feather(captions_file)"
   ]
  },
  {
   "cell_type": "code",
   "execution_count": 5,
   "metadata": {},
   "outputs": [
    {
     "data": {
      "text/html": [
       "<div>\n",
       "<style scoped>\n",
       "    .dataframe tbody tr th:only-of-type {\n",
       "        vertical-align: middle;\n",
       "    }\n",
       "\n",
       "    .dataframe tbody tr th {\n",
       "        vertical-align: top;\n",
       "    }\n",
       "\n",
       "    .dataframe thead th {\n",
       "        text-align: right;\n",
       "    }\n",
       "</style>\n",
       "<table border=\"1\" class=\"dataframe\">\n",
       "  <thead>\n",
       "    <tr style=\"text-align: right;\">\n",
       "      <th></th>\n",
       "      <th>filename</th>\n",
       "      <th>clean_sentence</th>\n",
       "      <th>split</th>\n",
       "    </tr>\n",
       "  </thead>\n",
       "  <tbody>\n",
       "    <tr>\n",
       "      <th>0</th>\n",
       "      <td>953417.jpg</td>\n",
       "      <td>nice you have mad macro skills you'll notice i...</td>\n",
       "      <td>train</td>\n",
       "    </tr>\n",
       "    <tr>\n",
       "      <th>1</th>\n",
       "      <td>953417.jpg</td>\n",
       "      <td>frog with attitude love it reminds me of jabba...</td>\n",
       "      <td>train</td>\n",
       "    </tr>\n",
       "    <tr>\n",
       "      <th>2</th>\n",
       "      <td>953417.jpg</td>\n",
       "      <td>he does look kind of lonely funky colors</td>\n",
       "      <td>train</td>\n",
       "    </tr>\n",
       "    <tr>\n",
       "      <th>3</th>\n",
       "      <td>953417.jpg</td>\n",
       "      <td>no thanks he is quite blue is'nt he i like this</td>\n",
       "      <td>train</td>\n",
       "    </tr>\n",
       "    <tr>\n",
       "      <th>4</th>\n",
       "      <td>953417.jpg</td>\n",
       "      <td>great shot</td>\n",
       "      <td>train</td>\n",
       "    </tr>\n",
       "    <tr>\n",
       "      <th>5</th>\n",
       "      <td>953417.jpg</td>\n",
       "      <td>very cute</td>\n",
       "      <td>train</td>\n",
       "    </tr>\n",
       "    <tr>\n",
       "      <th>6</th>\n",
       "      <td>953417.jpg</td>\n",
       "      <td>funny shot very nice perspective and lovely co...</td>\n",
       "      <td>train</td>\n",
       "    </tr>\n",
       "    <tr>\n",
       "      <th>7</th>\n",
       "      <td>953777.jpg</td>\n",
       "      <td>well done i love the perspective</td>\n",
       "      <td>train</td>\n",
       "    </tr>\n",
       "    <tr>\n",
       "      <th>8</th>\n",
       "      <td>953777.jpg</td>\n",
       "      <td>nice placement i see this made</td>\n",
       "      <td>train</td>\n",
       "    </tr>\n",
       "    <tr>\n",
       "      <th>9</th>\n",
       "      <td>953777.jpg</td>\n",
       "      <td>on your profile page i suspect you will be rot...</td>\n",
       "      <td>train</td>\n",
       "    </tr>\n",
       "    <tr>\n",
       "      <th>10</th>\n",
       "      <td>953777.jpg</td>\n",
       "      <td>i note the coat of arms of the royal family bu...</td>\n",
       "      <td>train</td>\n",
       "    </tr>\n",
       "    <tr>\n",
       "      <th>11</th>\n",
       "      <td>953777.jpg</td>\n",
       "      <td>what do you live in the steeple</td>\n",
       "      <td>train</td>\n",
       "    </tr>\n",
       "    <tr>\n",
       "      <th>12</th>\n",
       "      <td>953777.jpg</td>\n",
       "      <td>awesome picture great angle and lighting and s...</td>\n",
       "      <td>train</td>\n",
       "    </tr>\n",
       "    <tr>\n",
       "      <th>13</th>\n",
       "      <td>953777.jpg</td>\n",
       "      <td>that's really within meters of your house if s...</td>\n",
       "      <td>train</td>\n",
       "    </tr>\n",
       "    <tr>\n",
       "      <th>14</th>\n",
       "      <td>953777.jpg</td>\n",
       "      <td>love the tree through the arch dynamic</td>\n",
       "      <td>train</td>\n",
       "    </tr>\n",
       "  </tbody>\n",
       "</table>\n",
       "</div>"
      ],
      "text/plain": [
       "      filename                                     clean_sentence  split\n",
       "0   953417.jpg  nice you have mad macro skills you'll notice i...  train\n",
       "1   953417.jpg  frog with attitude love it reminds me of jabba...  train\n",
       "2   953417.jpg           he does look kind of lonely funky colors  train\n",
       "3   953417.jpg    no thanks he is quite blue is'nt he i like this  train\n",
       "4   953417.jpg                                         great shot  train\n",
       "5   953417.jpg                                          very cute  train\n",
       "6   953417.jpg  funny shot very nice perspective and lovely co...  train\n",
       "7   953777.jpg                   well done i love the perspective  train\n",
       "8   953777.jpg                     nice placement i see this made  train\n",
       "9   953777.jpg  on your profile page i suspect you will be rot...  train\n",
       "10  953777.jpg  i note the coat of arms of the royal family bu...  train\n",
       "11  953777.jpg                    what do you live in the steeple  train\n",
       "12  953777.jpg  awesome picture great angle and lighting and s...  train\n",
       "13  953777.jpg  that's really within meters of your house if s...  train\n",
       "14  953777.jpg             love the tree through the arch dynamic  train"
      ]
     },
     "execution_count": 5,
     "metadata": {},
     "output_type": "execute_result"
    }
   ],
   "source": [
    "df.head(15)"
   ]
  },
  {
   "cell_type": "code",
   "execution_count": 6,
   "metadata": {},
   "outputs": [
    {
     "name": "stdout",
     "output_type": "stream",
     "text": [
      "3330881\n",
      "253895\n"
     ]
    }
   ],
   "source": [
    "print(len(df['filename']))\n",
    "print(len(pd.unique(df['filename'])))"
   ]
  },
  {
   "cell_type": "code",
   "execution_count": 7,
   "metadata": {},
   "outputs": [],
   "source": [
    "#df_filtered = df.drop(df[df['clean_sentence'].map(lambda x: len(x.split()) < 4)].index)\n",
    "df_filtered = df"
   ]
  },
  {
   "cell_type": "code",
   "execution_count": 8,
   "metadata": {},
   "outputs": [
    {
     "name": "stdout",
     "output_type": "stream",
     "text": [
      "3330881\n",
      "253895\n"
     ]
    }
   ],
   "source": [
    "print(len(df_filtered['filename']))\n",
    "print(len(pd.unique(df_filtered['filename'])))"
   ]
  },
  {
   "cell_type": "code",
   "execution_count": 9,
   "metadata": {},
   "outputs": [
    {
     "data": {
      "text/html": [
       "<div>\n",
       "<style scoped>\n",
       "    .dataframe tbody tr th:only-of-type {\n",
       "        vertical-align: middle;\n",
       "    }\n",
       "\n",
       "    .dataframe tbody tr th {\n",
       "        vertical-align: top;\n",
       "    }\n",
       "\n",
       "    .dataframe thead th {\n",
       "        text-align: right;\n",
       "    }\n",
       "</style>\n",
       "<table border=\"1\" class=\"dataframe\">\n",
       "  <thead>\n",
       "    <tr style=\"text-align: right;\">\n",
       "      <th></th>\n",
       "      <th>filename</th>\n",
       "      <th>clean_sentence</th>\n",
       "      <th>split</th>\n",
       "    </tr>\n",
       "  </thead>\n",
       "  <tbody>\n",
       "    <tr>\n",
       "      <th>0</th>\n",
       "      <td>953417.jpg</td>\n",
       "      <td>nice you have mad macro skills you'll notice i...</td>\n",
       "      <td>train</td>\n",
       "    </tr>\n",
       "    <tr>\n",
       "      <th>1</th>\n",
       "      <td>953417.jpg</td>\n",
       "      <td>frog with attitude love it reminds me of jabba...</td>\n",
       "      <td>train</td>\n",
       "    </tr>\n",
       "    <tr>\n",
       "      <th>2</th>\n",
       "      <td>953417.jpg</td>\n",
       "      <td>he does look kind of lonely funky colors</td>\n",
       "      <td>train</td>\n",
       "    </tr>\n",
       "    <tr>\n",
       "      <th>3</th>\n",
       "      <td>953417.jpg</td>\n",
       "      <td>no thanks he is quite blue is'nt he i like this</td>\n",
       "      <td>train</td>\n",
       "    </tr>\n",
       "    <tr>\n",
       "      <th>4</th>\n",
       "      <td>953417.jpg</td>\n",
       "      <td>great shot</td>\n",
       "      <td>train</td>\n",
       "    </tr>\n",
       "    <tr>\n",
       "      <th>5</th>\n",
       "      <td>953417.jpg</td>\n",
       "      <td>very cute</td>\n",
       "      <td>train</td>\n",
       "    </tr>\n",
       "    <tr>\n",
       "      <th>6</th>\n",
       "      <td>953417.jpg</td>\n",
       "      <td>funny shot very nice perspective and lovely co...</td>\n",
       "      <td>train</td>\n",
       "    </tr>\n",
       "    <tr>\n",
       "      <th>7</th>\n",
       "      <td>953777.jpg</td>\n",
       "      <td>well done i love the perspective</td>\n",
       "      <td>train</td>\n",
       "    </tr>\n",
       "    <tr>\n",
       "      <th>8</th>\n",
       "      <td>953777.jpg</td>\n",
       "      <td>nice placement i see this made</td>\n",
       "      <td>train</td>\n",
       "    </tr>\n",
       "    <tr>\n",
       "      <th>9</th>\n",
       "      <td>953777.jpg</td>\n",
       "      <td>on your profile page i suspect you will be rot...</td>\n",
       "      <td>train</td>\n",
       "    </tr>\n",
       "    <tr>\n",
       "      <th>10</th>\n",
       "      <td>953777.jpg</td>\n",
       "      <td>i note the coat of arms of the royal family bu...</td>\n",
       "      <td>train</td>\n",
       "    </tr>\n",
       "    <tr>\n",
       "      <th>11</th>\n",
       "      <td>953777.jpg</td>\n",
       "      <td>what do you live in the steeple</td>\n",
       "      <td>train</td>\n",
       "    </tr>\n",
       "    <tr>\n",
       "      <th>12</th>\n",
       "      <td>953777.jpg</td>\n",
       "      <td>awesome picture great angle and lighting and s...</td>\n",
       "      <td>train</td>\n",
       "    </tr>\n",
       "    <tr>\n",
       "      <th>13</th>\n",
       "      <td>953777.jpg</td>\n",
       "      <td>that's really within meters of your house if s...</td>\n",
       "      <td>train</td>\n",
       "    </tr>\n",
       "    <tr>\n",
       "      <th>14</th>\n",
       "      <td>953777.jpg</td>\n",
       "      <td>love the tree through the arch dynamic</td>\n",
       "      <td>train</td>\n",
       "    </tr>\n",
       "  </tbody>\n",
       "</table>\n",
       "</div>"
      ],
      "text/plain": [
       "      filename                                     clean_sentence  split\n",
       "0   953417.jpg  nice you have mad macro skills you'll notice i...  train\n",
       "1   953417.jpg  frog with attitude love it reminds me of jabba...  train\n",
       "2   953417.jpg           he does look kind of lonely funky colors  train\n",
       "3   953417.jpg    no thanks he is quite blue is'nt he i like this  train\n",
       "4   953417.jpg                                         great shot  train\n",
       "5   953417.jpg                                          very cute  train\n",
       "6   953417.jpg  funny shot very nice perspective and lovely co...  train\n",
       "7   953777.jpg                   well done i love the perspective  train\n",
       "8   953777.jpg                     nice placement i see this made  train\n",
       "9   953777.jpg  on your profile page i suspect you will be rot...  train\n",
       "10  953777.jpg  i note the coat of arms of the royal family bu...  train\n",
       "11  953777.jpg                    what do you live in the steeple  train\n",
       "12  953777.jpg  awesome picture great angle and lighting and s...  train\n",
       "13  953777.jpg  that's really within meters of your house if s...  train\n",
       "14  953777.jpg             love the tree through the arch dynamic  train"
      ]
     },
     "execution_count": 9,
     "metadata": {},
     "output_type": "execute_result"
    }
   ],
   "source": [
    "df_filtered.head(15)"
   ]
  },
  {
   "cell_type": "code",
   "execution_count": 10,
   "metadata": {},
   "outputs": [],
   "source": [
    "filenames_list = pd.unique(df_filtered['filename']).tolist()"
   ]
  },
  {
   "cell_type": "code",
   "execution_count": 11,
   "metadata": {},
   "outputs": [],
   "source": [
    "filename_sample = random.sample(filenames_list, int(len(filenames_list)*0.1))"
   ]
  },
  {
   "cell_type": "code",
   "execution_count": 12,
   "metadata": {},
   "outputs": [],
   "source": [
    "df_sampled = df_filtered.drop(df_filtered[~df_filtered['filename'].isin(filename_sample)].index)"
   ]
  },
  {
   "cell_type": "code",
   "execution_count": 13,
   "metadata": {},
   "outputs": [],
   "source": [
    "df_sampled = df_sampled.drop(columns='split').reset_index(drop=True)"
   ]
  },
  {
   "cell_type": "code",
   "execution_count": 14,
   "metadata": {},
   "outputs": [
    {
     "data": {
      "text/html": [
       "<div>\n",
       "<style scoped>\n",
       "    .dataframe tbody tr th:only-of-type {\n",
       "        vertical-align: middle;\n",
       "    }\n",
       "\n",
       "    .dataframe tbody tr th {\n",
       "        vertical-align: top;\n",
       "    }\n",
       "\n",
       "    .dataframe thead th {\n",
       "        text-align: right;\n",
       "    }\n",
       "</style>\n",
       "<table border=\"1\" class=\"dataframe\">\n",
       "  <thead>\n",
       "    <tr style=\"text-align: right;\">\n",
       "      <th></th>\n",
       "      <th>filename</th>\n",
       "      <th>clean_sentence</th>\n",
       "    </tr>\n",
       "  </thead>\n",
       "  <tbody>\n",
       "    <tr>\n",
       "      <th>0</th>\n",
       "      <td>953756.jpg</td>\n",
       "      <td>good ambiance and pp it looks like where i gre...</td>\n",
       "    </tr>\n",
       "    <tr>\n",
       "      <th>1</th>\n",
       "      <td>953756.jpg</td>\n",
       "      <td>love the tree in the middle</td>\n",
       "    </tr>\n",
       "    <tr>\n",
       "      <th>2</th>\n",
       "      <td>953756.jpg</td>\n",
       "      <td>gritty desat image wonderful</td>\n",
       "    </tr>\n",
       "    <tr>\n",
       "      <th>3</th>\n",
       "      <td>953756.jpg</td>\n",
       "      <td>i like the grainy effet in this image gives it...</td>\n",
       "    </tr>\n",
       "    <tr>\n",
       "      <th>4</th>\n",
       "      <td>953756.jpg</td>\n",
       "      <td>i like the use of grain throughout</td>\n",
       "    </tr>\n",
       "    <tr>\n",
       "      <th>5</th>\n",
       "      <td>953550.jpg</td>\n",
       "      <td>this photo is absolutely stunning</td>\n",
       "    </tr>\n",
       "    <tr>\n",
       "      <th>6</th>\n",
       "      <td>953550.jpg</td>\n",
       "      <td>very nicely done nice job getting rid of the e...</td>\n",
       "    </tr>\n",
       "    <tr>\n",
       "      <th>7</th>\n",
       "      <td>953550.jpg</td>\n",
       "      <td>congrats on it all</td>\n",
       "    </tr>\n",
       "    <tr>\n",
       "      <th>8</th>\n",
       "      <td>953550.jpg</td>\n",
       "      <td>wow what a view</td>\n",
       "    </tr>\n",
       "    <tr>\n",
       "      <th>9</th>\n",
       "      <td>953550.jpg</td>\n",
       "      <td>lucky lucky you good use of the fish eye</td>\n",
       "    </tr>\n",
       "    <tr>\n",
       "      <th>10</th>\n",
       "      <td>953550.jpg</td>\n",
       "      <td>quite a view nice use of the fisheye vibrant s...</td>\n",
       "    </tr>\n",
       "    <tr>\n",
       "      <th>11</th>\n",
       "      <td>953550.jpg</td>\n",
       "      <td>amazing top</td>\n",
       "    </tr>\n",
       "    <tr>\n",
       "      <th>12</th>\n",
       "      <td>953550.jpg</td>\n",
       "      <td>wild distortion perfect time of evening for th...</td>\n",
       "    </tr>\n",
       "    <tr>\n",
       "      <th>13</th>\n",
       "      <td>953550.jpg</td>\n",
       "      <td>wowzers that's all i can say</td>\n",
       "    </tr>\n",
       "    <tr>\n",
       "      <th>14</th>\n",
       "      <td>953550.jpg</td>\n",
       "      <td>love fisheye photos i like how your compositio...</td>\n",
       "    </tr>\n",
       "  </tbody>\n",
       "</table>\n",
       "</div>"
      ],
      "text/plain": [
       "      filename                                     clean_sentence\n",
       "0   953756.jpg  good ambiance and pp it looks like where i gre...\n",
       "1   953756.jpg                        love the tree in the middle\n",
       "2   953756.jpg                       gritty desat image wonderful\n",
       "3   953756.jpg  i like the grainy effet in this image gives it...\n",
       "4   953756.jpg                 i like the use of grain throughout\n",
       "5   953550.jpg                  this photo is absolutely stunning\n",
       "6   953550.jpg  very nicely done nice job getting rid of the e...\n",
       "7   953550.jpg                                 congrats on it all\n",
       "8   953550.jpg                                    wow what a view\n",
       "9   953550.jpg           lucky lucky you good use of the fish eye\n",
       "10  953550.jpg  quite a view nice use of the fisheye vibrant s...\n",
       "11  953550.jpg                                        amazing top\n",
       "12  953550.jpg  wild distortion perfect time of evening for th...\n",
       "13  953550.jpg                       wowzers that's all i can say\n",
       "14  953550.jpg  love fisheye photos i like how your compositio..."
      ]
     },
     "execution_count": 14,
     "metadata": {},
     "output_type": "execute_result"
    }
   ],
   "source": [
    "df_sampled.head(15)"
   ]
  },
  {
   "cell_type": "code",
   "execution_count": 15,
   "metadata": {},
   "outputs": [
    {
     "name": "stdout",
     "output_type": "stream",
     "text": [
      "334185\n",
      "25389\n"
     ]
    }
   ],
   "source": [
    "print(len(df_sampled))\n",
    "print(len(pd.unique(df_sampled['filename'])))"
   ]
  },
  {
   "cell_type": "code",
   "execution_count": 16,
   "metadata": {},
   "outputs": [],
   "source": [
    "df_sampled.to_csv('../datasets/AVA/AVA_sample_10percent.txt', index=False)\n",
    "df_sampled.to_feather('../datasets/AVA/AVA_sample_10percent.feather')"
   ]
  },
  {
   "attachments": {},
   "cell_type": "markdown",
   "metadata": {},
   "source": [
    "# Creating file for gpt2 language model"
   ]
  },
  {
   "cell_type": "code",
   "execution_count": 5,
   "metadata": {},
   "outputs": [],
   "source": [
    "images_dir = \"../datasets/AVA/images\"\n",
    "captions_file_cleaned_subjective = \"../datasets/AVA/CLEAN_AVA_FULL_AFTER_SUBJECTIVE_CLEANING.json\""
   ]
  },
  {
   "cell_type": "code",
   "execution_count": 6,
   "metadata": {},
   "outputs": [],
   "source": [
    "with io.open(captions_file_cleaned_subjective, 'r', encoding = 'utf-8') as f:\n",
    "    json_file = json.load(f)"
   ]
  },
  {
   "cell_type": "code",
   "execution_count": 7,
   "metadata": {},
   "outputs": [
    {
     "data": {
      "text/html": [
       "<div>\n",
       "<style scoped>\n",
       "    .dataframe tbody tr th:only-of-type {\n",
       "        vertical-align: middle;\n",
       "    }\n",
       "\n",
       "    .dataframe tbody tr th {\n",
       "        vertical-align: top;\n",
       "    }\n",
       "\n",
       "    .dataframe thead th {\n",
       "        text-align: right;\n",
       "    }\n",
       "</style>\n",
       "<table border=\"1\" class=\"dataframe\">\n",
       "  <thead>\n",
       "    <tr style=\"text-align: right;\">\n",
       "      <th></th>\n",
       "      <th>sentids</th>\n",
       "      <th>filepath</th>\n",
       "      <th>filename</th>\n",
       "      <th>imgid</th>\n",
       "      <th>split</th>\n",
       "      <th>sentences</th>\n",
       "      <th>cocoid</th>\n",
       "    </tr>\n",
       "  </thead>\n",
       "  <tbody>\n",
       "    <tr>\n",
       "      <th>0</th>\n",
       "      <td></td>\n",
       "      <td></td>\n",
       "      <td>953958.jpg</td>\n",
       "      <td>953958</td>\n",
       "      <td>train</td>\n",
       "      <td>[{'bigrams': [[['geometry', 'NN'], ['man', 'NN...</td>\n",
       "      <td>953958</td>\n",
       "    </tr>\n",
       "    <tr>\n",
       "      <th>1</th>\n",
       "      <td></td>\n",
       "      <td></td>\n",
       "      <td>954184.jpg</td>\n",
       "      <td>954184</td>\n",
       "      <td>train</td>\n",
       "      <td>[{'bigrams': [[['puffed', 'NN'], ['king', 'NN'...</td>\n",
       "      <td>954184</td>\n",
       "    </tr>\n",
       "    <tr>\n",
       "      <th>2</th>\n",
       "      <td></td>\n",
       "      <td></td>\n",
       "      <td>954113.jpg</td>\n",
       "      <td>954113</td>\n",
       "      <td>train</td>\n",
       "      <td>[{'bigrams': [[['great', 'JJ'], ['decision', '...</td>\n",
       "      <td>954113</td>\n",
       "    </tr>\n",
       "    <tr>\n",
       "      <th>3</th>\n",
       "      <td></td>\n",
       "      <td></td>\n",
       "      <td>953980.jpg</td>\n",
       "      <td>953980</td>\n",
       "      <td>train</td>\n",
       "      <td>[{'bigrams': [[['deep', 'JJR'], ['dof', 'NN']]...</td>\n",
       "      <td>953980</td>\n",
       "    </tr>\n",
       "    <tr>\n",
       "      <th>4</th>\n",
       "      <td></td>\n",
       "      <td></td>\n",
       "      <td>953349.jpg</td>\n",
       "      <td>953349</td>\n",
       "      <td>train</td>\n",
       "      <td>[{'bigrams': [[['nice', 'JJ'], ['nice', 'JJ']]...</td>\n",
       "      <td>953349</td>\n",
       "    </tr>\n",
       "  </tbody>\n",
       "</table>\n",
       "</div>"
      ],
      "text/plain": [
       "  sentids filepath    filename   imgid  split  \\\n",
       "0                   953958.jpg  953958  train   \n",
       "1                   954184.jpg  954184  train   \n",
       "2                   954113.jpg  954113  train   \n",
       "3                   953980.jpg  953980  train   \n",
       "4                   953349.jpg  953349  train   \n",
       "\n",
       "                                           sentences  cocoid  \n",
       "0  [{'bigrams': [[['geometry', 'NN'], ['man', 'NN...  953958  \n",
       "1  [{'bigrams': [[['puffed', 'NN'], ['king', 'NN'...  954184  \n",
       "2  [{'bigrams': [[['great', 'JJ'], ['decision', '...  954113  \n",
       "3  [{'bigrams': [[['deep', 'JJR'], ['dof', 'NN']]...  953980  \n",
       "4  [{'bigrams': [[['nice', 'JJ'], ['nice', 'JJ']]...  953349  "
      ]
     },
     "execution_count": 7,
     "metadata": {},
     "output_type": "execute_result"
    }
   ],
   "source": [
    "df_raw = pd.DataFrame(json_file['images'])\n",
    "df_raw.head()"
   ]
  },
  {
   "cell_type": "code",
   "execution_count": 8,
   "metadata": {},
   "outputs": [
    {
     "data": {
      "text/plain": [
       "240060"
      ]
     },
     "execution_count": 8,
     "metadata": {},
     "output_type": "execute_result"
    }
   ],
   "source": [
    "len(df_raw)"
   ]
  },
  {
   "cell_type": "code",
   "execution_count": 29,
   "metadata": {},
   "outputs": [
    {
     "data": {
      "text/plain": [
       "'more geometry than any man has a right to.'"
      ]
     },
     "execution_count": 29,
     "metadata": {},
     "output_type": "execute_result"
    }
   ],
   "source": [
    "df_raw['sentences'][0][0]['clean']"
   ]
  },
  {
   "cell_type": "code",
   "execution_count": 20,
   "metadata": {},
   "outputs": [],
   "source": [
    "filenames_list = []\n",
    "captions_list = []\n",
    "\n",
    "for i, img in enumerate(df_raw['filename']):\n",
    "    for j, caption in enumerate(df_raw['sentences'][i]):\n",
    "        if os.path.exists(os.path.join(images_dir, img)):\n",
    "            filenames_list.append(img)\n",
    "            captions_list.append(caption['clean'])"
   ]
  },
  {
   "cell_type": "code",
   "execution_count": 28,
   "metadata": {},
   "outputs": [
    {
     "data": {
      "text/plain": [
       "\"you have the widest armspan i think i've ever seen. hopefully that's a bit of a factor of the wide lens angle!\""
      ]
     },
     "execution_count": 28,
     "metadata": {},
     "output_type": "execute_result"
    }
   ],
   "source": [
    "captions_list[10]"
   ]
  },
  {
   "cell_type": "code",
   "execution_count": 22,
   "metadata": {},
   "outputs": [
    {
     "data": {
      "text/html": [
       "<div>\n",
       "<style scoped>\n",
       "    .dataframe tbody tr th:only-of-type {\n",
       "        vertical-align: middle;\n",
       "    }\n",
       "\n",
       "    .dataframe tbody tr th {\n",
       "        vertical-align: top;\n",
       "    }\n",
       "\n",
       "    .dataframe thead th {\n",
       "        text-align: right;\n",
       "    }\n",
       "</style>\n",
       "<table border=\"1\" class=\"dataframe\">\n",
       "  <thead>\n",
       "    <tr style=\"text-align: right;\">\n",
       "      <th></th>\n",
       "      <th>filename</th>\n",
       "      <th>clean_sentence</th>\n",
       "    </tr>\n",
       "  </thead>\n",
       "  <tbody>\n",
       "    <tr>\n",
       "      <th>0</th>\n",
       "      <td>953417.jpg</td>\n",
       "      <td>. nice! you have mad macro skills! you'll noti...</td>\n",
       "    </tr>\n",
       "    <tr>\n",
       "      <th>1</th>\n",
       "      <td>953417.jpg</td>\n",
       "      <td>funny shot. very nice perspective and lovely c...</td>\n",
       "    </tr>\n",
       "    <tr>\n",
       "      <th>2</th>\n",
       "      <td>953777.jpg</td>\n",
       "      <td>on your profile page. i suspect you will be ro...</td>\n",
       "    </tr>\n",
       "    <tr>\n",
       "      <th>3</th>\n",
       "      <td>953777.jpg</td>\n",
       "      <td>awesome picture! great angle and lighting and ...</td>\n",
       "    </tr>\n",
       "    <tr>\n",
       "      <th>4</th>\n",
       "      <td>953777.jpg</td>\n",
       "      <td>that's really within meters of your house? if ...</td>\n",
       "    </tr>\n",
       "  </tbody>\n",
       "</table>\n",
       "</div>"
      ],
      "text/plain": [
       "     filename                                     clean_sentence\n",
       "0  953417.jpg  . nice! you have mad macro skills! you'll noti...\n",
       "1  953417.jpg  funny shot. very nice perspective and lovely c...\n",
       "2  953777.jpg  on your profile page. i suspect you will be ro...\n",
       "3  953777.jpg  awesome picture! great angle and lighting and ...\n",
       "4  953777.jpg  that's really within meters of your house? if ..."
      ]
     },
     "execution_count": 22,
     "metadata": {},
     "output_type": "execute_result"
    }
   ],
   "source": [
    "df_full_dict = {'filename': filenames_list, 'clean_sentence': captions_list}\n",
    "df_full = pd.DataFrame(df_full_dict)\n",
    "df_full.head()"
   ]
  },
  {
   "cell_type": "code",
   "execution_count": 42,
   "metadata": {},
   "outputs": [],
   "source": [
    "df_full.to_feather('../datasets/AVA/AVA-captions_full.feather')"
   ]
  },
  {
   "cell_type": "code",
   "execution_count": 48,
   "metadata": {},
   "outputs": [],
   "source": [
    "with open('../datasets/AVA/AVA-captions_full_text.txt', 'w', encoding=\"utf-8\") as f:\n",
    "    f.write(\" \".join(captions_list))"
   ]
  }
 ],
 "metadata": {
  "kernelspec": {
   "display_name": "pytorch",
   "language": "python",
   "name": "python3"
  },
  "language_info": {
   "codemirror_mode": {
    "name": "ipython",
    "version": 3
   },
   "file_extension": ".py",
   "mimetype": "text/x-python",
   "name": "python",
   "nbconvert_exporter": "python",
   "pygments_lexer": "ipython3",
   "version": "3.9.15"
  },
  "orig_nbformat": 4,
  "vscode": {
   "interpreter": {
    "hash": "a885d5bfa55cca12b0dd162160ddb2cadd7a03a3570ec17fb5426c28a2279b3e"
   }
  }
 },
 "nbformat": 4,
 "nbformat_minor": 2
}
